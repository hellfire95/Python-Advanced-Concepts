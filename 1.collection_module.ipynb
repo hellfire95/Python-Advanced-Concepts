{
 "cells": [
  {
   "cell_type": "code",
   "execution_count": 2,
   "metadata": {},
   "outputs": [],
   "source": [
    "import collections\n",
    "from collections import Counter"
   ]
  },
  {
   "cell_type": "code",
   "execution_count": 3,
   "metadata": {},
   "outputs": [
    {
     "name": "stdout",
     "output_type": "stream",
     "text": [
      "['a', 'a', 'a', 'a', 'b', 'b']\n"
     ]
    }
   ],
   "source": [
    "c = Counter(a=4,b=2,c=0,d=-2)\n",
    "print(list(c.elements()))"
   ]
  },
  {
   "cell_type": "code",
   "execution_count": 5,
   "metadata": {},
   "outputs": [
    {
     "name": "stdout",
     "output_type": "stream",
     "text": [
      "Counter({'a': 4, 'b': 2})\n"
     ]
    }
   ],
   "source": [
    "list = ['a', 'a', 'a', 'a', 'b', 'b']\n",
    "c = Counter(list)\n",
    "print(c)"
   ]
  },
  {
   "cell_type": "code",
   "execution_count": 7,
   "metadata": {},
   "outputs": [
    {
     "name": "stdout",
     "output_type": "stream",
     "text": [
      "\n",
      "Original string:Online digital Based Learning\n",
      "Most common characters of my_string:\n",
      "[('n', 4), ('i', 4), ('e', 3), (' ', 3)]\n"
     ]
    }
   ],
   "source": [
    "(# find most commmon 3 character inside the string\n",
    "my_string = \"Online digital Based Learning\"\n",
    "print(\"\\nOriginal string:\"+my_string)\n",
    "print(\"Most common characters of my_string:\")\n",
    "print(Counter(my_string).most_common(4)))"
   ]
  },
  {
   "cell_type": "code",
   "execution_count": 1,
   "metadata": {},
   "outputs": [
    {
     "name": "stdout",
     "output_type": "stream",
     "text": [
      "O\n",
      "n\n",
      "l\n",
      "i\n",
      "n\n",
      "e\n",
      " \n",
      "e\n",
      "d\n",
      "u\n",
      "c\n",
      "a\n",
      "t\n",
      "i\n",
      "o\n",
      "n\n"
     ]
    }
   ],
   "source": [
    "# represent element by element\n",
    "from collections import deque\n",
    "dq = deque(\"Online education\")\n",
    "for element in dq:\n",
    "    print(element)"
   ]
  },
  {
   "cell_type": "code",
   "execution_count": 3,
   "metadata": {},
   "outputs": [
    {
     "name": "stdout",
     "output_type": "stream",
     "text": [
      "[('Google', 1), ('LLC', 1), ('is', 1), ('an', 1), ('Ameican', 1)]\n"
     ]
    }
   ],
   "source": [
    "from collections import Counter\n",
    "import re\n",
    "text = \"\"\"Google LLC is an Ameican mulrinational technology company\n",
    "that speaclizes in Internet-related services and products, which \n",
    "include onlineadvertising technologies,a search engine\"\"\"\n",
    "words = re.findall('\\w+',text)\n",
    "print(Counter(words).most_common(5))"
   ]
  },
  {
   "cell_type": "code",
   "execution_count": 4,
   "metadata": {},
   "outputs": [
    {
     "name": "stdout",
     "output_type": "stream",
     "text": [
      "deque(['white', 'red', 'green', 'white'])\n"
     ]
    }
   ],
   "source": [
    "import collections\n",
    "# create deque\n",
    "deque_color = collections.deque(['white','red','green','white'])\n",
    "print(deque_color)"
   ]
  },
  {
   "cell_type": "code",
   "execution_count": 5,
   "metadata": {},
   "outputs": [
    {
     "name": "stdout",
     "output_type": "stream",
     "text": [
      "deque(['black', 'white', 'red', 'green', 'white'])\n"
     ]
    }
   ],
   "source": [
    "#append to the left side\n",
    "deque_color.appendleft('black')\n",
    "print(deque_color)"
   ]
  },
  {
   "cell_type": "code",
   "execution_count": 6,
   "metadata": {},
   "outputs": [
    {
     "name": "stdout",
     "output_type": "stream",
     "text": [
      "deque(['black', 'white', 'red', 'green', 'white', 'orange'])\n"
     ]
    }
   ],
   "source": [
    "# using simple append by default adds to the right\n",
    "deque_color.append('orange')\n",
    "print(deque_color)"
   ]
  },
  {
   "cell_type": "code",
   "execution_count": 16,
   "metadata": {},
   "outputs": [
    {
     "name": "stdout",
     "output_type": "stream",
     "text": [
      "\n",
      " Most common element of the list:\n",
      "white\n"
     ]
    }
   ],
   "source": [
    "cnt = Counter(deque_color)\n",
    "print(\"\\n Most common element of the list:\")\n",
    "print(cnt.most_common(1)[0][0])"
   ]
  },
  {
   "cell_type": "code",
   "execution_count": 17,
   "metadata": {},
   "outputs": [
    {
     "name": "stdout",
     "output_type": "stream",
     "text": [
      "deque(['black', 'white', 'red', 'green', 'white'])\n"
     ]
    }
   ],
   "source": [
    "# pop the values from right\n",
    "deque_color.pop()\n",
    "print(deque_color)"
   ]
  },
  {
   "cell_type": "code",
   "execution_count": 20,
   "metadata": {},
   "outputs": [
    {
     "name": "stdout",
     "output_type": "stream",
     "text": [
      "deque(['green', 'red', 'white'])\n"
     ]
    }
   ],
   "source": [
    "# remove from left\n",
    "deque_color.popleft()\n",
    "print(deque_color)"
   ]
  },
  {
   "cell_type": "code",
   "execution_count": 23,
   "metadata": {},
   "outputs": [
    {
     "name": "stdout",
     "output_type": "stream",
     "text": [
      "deque(['white', 'red', 'green'])\n"
     ]
    }
   ],
   "source": [
    "deque_color.reverse()\n",
    "print(deque_color)"
   ]
  },
  {
   "cell_type": "code",
   "execution_count": 24,
   "metadata": {},
   "outputs": [
    {
     "name": "stdout",
     "output_type": "stream",
     "text": [
      "(3, 5, 7)\n"
     ]
    }
   ],
   "source": [
    "odd_nums=(3,5,7)\n",
    "print(odd_nums)"
   ]
  },
  {
   "cell_type": "code",
   "execution_count": 25,
   "metadata": {},
   "outputs": [
    {
     "name": "stdout",
     "output_type": "stream",
     "text": [
      "<class 'tuple'>\n"
     ]
    }
   ],
   "source": [
    "print(type(odd_nums))"
   ]
  },
  {
   "cell_type": "code",
   "execution_count": 26,
   "metadata": {},
   "outputs": [
    {
     "name": "stdout",
     "output_type": "stream",
     "text": [
      "<class 'collections.deque'>\n"
     ]
    }
   ],
   "source": [
    "odd_nums_deque=collections.deque(odd_nums)\n",
    "print(type(odd_nums_deque))"
   ]
  },
  {
   "cell_type": "code",
   "execution_count": 27,
   "metadata": {},
   "outputs": [
    {
     "name": "stdout",
     "output_type": "stream",
     "text": [
      "deque([1, 3, 5, 7, 9, 11])\n"
     ]
    }
   ],
   "source": [
    "odd_nums_deque.append(9)\n",
    "odd_nums_deque.append(11)\n",
    "odd_nums_deque.appendleft(1)\n",
    "print(odd_nums_deque)"
   ]
  },
  {
   "cell_type": "code",
   "execution_count": 28,
   "metadata": {},
   "outputs": [
    {
     "name": "stdout",
     "output_type": "stream",
     "text": [
      "<class 'collections.deque'>\n"
     ]
    }
   ],
   "source": [
    "print(type(odd_nums_deque))"
   ]
  },
  {
   "cell_type": "code",
   "execution_count": 29,
   "metadata": {},
   "outputs": [
    {
     "name": "stdout",
     "output_type": "stream",
     "text": [
      "deque([9, 11, 1, 3, 5, 7])\n"
     ]
    }
   ],
   "source": [
    "#positive rotation\n",
    "odd_nums_deque.rotate(2)\n",
    "print(odd_nums_deque)"
   ]
  },
  {
   "cell_type": "code",
   "execution_count": 31,
   "metadata": {},
   "outputs": [
    {
     "name": "stdout",
     "output_type": "stream",
     "text": [
      "deque([5, 7, 9, 11, 1, 3])\n"
     ]
    }
   ],
   "source": [
    "#negative rotation\n",
    "odd_nums_deque.rotate(-2)\n",
    "print(odd_nums_deque)"
   ]
  },
  {
   "cell_type": "code",
   "execution_count": 34,
   "metadata": {},
   "outputs": [
    {
     "name": "stdout",
     "output_type": "stream",
     "text": [
      "deque length:6\n"
     ]
    }
   ],
   "source": [
    "print(\"deque length:%d\"%(len(odd_nums_deque)))"
   ]
  },
  {
   "cell_type": "code",
   "execution_count": 35,
   "metadata": {},
   "outputs": [
    {
     "name": "stdout",
     "output_type": "stream",
     "text": [
      "deque([])\n",
      "Deque Length:0\n"
     ]
    }
   ],
   "source": [
    "odd_nums_deque.clear()\n",
    "print(odd_nums_deque)\n",
    "print(\"Deque Length:%d\"%(len(odd_nums_deque)))"
   ]
  },
  {
   "cell_type": "code",
   "execution_count": 39,
   "metadata": {},
   "outputs": [
    {
     "name": "stdout",
     "output_type": "stream",
     "text": [
      "6\n"
     ]
    }
   ],
   "source": [
    "import collections\n",
    "from collections import Counter\n",
    "nums = (2,5,4,6,5,5,6,8,8,8,8,9,9,6,5 ,1,9,9,9,9)\n",
    "nums_deque = collections.deque(nums)\n",
    "print(nums_deque.count(9))"
   ]
  },
  {
   "cell_type": "code",
   "execution_count": null,
   "metadata": {},
   "outputs": [],
   "source": []
  }
 ],
 "metadata": {
  "kernelspec": {
   "display_name": "Python 3",
   "language": "python",
   "name": "python3"
  },
  "language_info": {
   "codemirror_mode": {
    "name": "ipython",
    "version": 3
   },
   "file_extension": ".py",
   "mimetype": "text/x-python",
   "name": "python",
   "nbconvert_exporter": "python",
   "pygments_lexer": "ipython3",
   "version": "3.11.5"
  }
 },
 "nbformat": 4,
 "nbformat_minor": 2
}
