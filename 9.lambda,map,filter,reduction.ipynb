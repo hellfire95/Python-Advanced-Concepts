{
 "cells": [
  {
   "cell_type": "markdown",
   "metadata": {},
   "source": [
    "## Alambda function is a small anoymous function. A lambda function can take any number of arguments, but can only have one expression.\n",
    "## Map, Filter, Reduce are paradigms of functional prigramming.\n",
    "\n",
    "They allow the programmer to write simpler, shorter code, without necessarly needing to bother about intricates like loop and branching."
   ]
  },
  {
   "cell_type": "code",
   "execution_count": 2,
   "metadata": {},
   "outputs": [
    {
     "name": "stdout",
     "output_type": "stream",
     "text": [
      "[2, 4, 6, 8, 16]\n"
     ]
    }
   ],
   "source": [
    "def my_func(num):\n",
    "    return num*2\n",
    "seq = [1,2,3,4,8]\n",
    "map(my_func,seq)\n",
    "a = list(map(my_func, seq))\n",
    "print(a)"
   ]
  },
  {
   "cell_type": "code",
   "execution_count": 4,
   "metadata": {},
   "outputs": [
    {
     "name": "stdout",
     "output_type": "stream",
     "text": [
      "[2, 4, 6, 16]\n"
     ]
    }
   ],
   "source": [
    "a = lambda num: num*2\n",
    "seq = [1,2,3,8]\n",
    "b = list(map(a,seq))\n",
    "print(b)"
   ]
  },
  {
   "cell_type": "code",
   "execution_count": 5,
   "metadata": {},
   "outputs": [
    {
     "name": "stdout",
     "output_type": "stream",
     "text": [
      "[2, 4, 6, 8, 16]\n"
     ]
    }
   ],
   "source": [
    "seq = [1,2,3,4,8]\n",
    "print(list(map(lambda num:num*2,seq)))"
   ]
  },
  {
   "cell_type": "code",
   "execution_count": 7,
   "metadata": {},
   "outputs": [
    {
     "name": "stdout",
     "output_type": "stream",
     "text": [
      "Oringinal numbers in the list: [1, -2, 7, 0, -78, 89, -99, 0, 5]\n",
      "Positive numbers in the list: [1, 7, 0, 89, 0, 5]\n"
     ]
    }
   ],
   "source": [
    "nums = [1,-2,7,0,-78,89,-99,0,5]\n",
    "print(\"Oringinal numbers in the list:\",nums)\n",
    "new_nums = list(filter(lambda num: num>=0, nums))\n",
    "print(\"Positive numbers in the list:\",new_nums)"
   ]
  },
  {
   "cell_type": "code",
   "execution_count": 8,
   "metadata": {},
   "outputs": [
    {
     "name": "stdout",
     "output_type": "stream",
     "text": [
      "Numbers divided by 15 are :  [45, 60, 105]\n"
     ]
    }
   ],
   "source": [
    "num_list = [45,55,60,37,100,105,220]\n",
    "result = list(filter(lambda x : (x % 15 == 0),num_list))\n",
    "print(\"Numbers divided by 15 are : \",result)"
   ]
  },
  {
   "cell_type": "markdown",
   "metadata": {},
   "source": [
    "## Reduce"
   ]
  },
  {
   "cell_type": "code",
   "execution_count": 9,
   "metadata": {},
   "outputs": [
    {
     "data": {
      "text/plain": [
       "5050"
      ]
     },
     "execution_count": 9,
     "metadata": {},
     "output_type": "execute_result"
    }
   ],
   "source": [
    "from functools import reduce\n",
    "reduce(lambda x,y:x+y, range(1,101) )"
   ]
  },
  {
   "cell_type": "code",
   "execution_count": null,
   "metadata": {},
   "outputs": [],
   "source": []
  }
 ],
 "metadata": {
  "kernelspec": {
   "display_name": "base",
   "language": "python",
   "name": "python3"
  },
  "language_info": {
   "codemirror_mode": {
    "name": "ipython",
    "version": 3
   },
   "file_extension": ".py",
   "mimetype": "text/x-python",
   "name": "python",
   "nbconvert_exporter": "python",
   "pygments_lexer": "ipython3",
   "version": "3.11.7"
  }
 },
 "nbformat": 4,
 "nbformat_minor": 2
}
