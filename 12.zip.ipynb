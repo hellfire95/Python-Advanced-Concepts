{
 "cells": [
  {
   "cell_type": "markdown",
   "metadata": {},
   "source": [
    "# zip()\n",
    "The purpose of zip() is to map the similar index of multiple containers so that they can be used just using as single entity."
   ]
  },
  {
   "cell_type": "code",
   "execution_count": 1,
   "metadata": {},
   "outputs": [],
   "source": [
    "name  = [\"Rama\",\"Ramesh\", \"Jully\",\"Mani\"]\n",
    "roll_no = [2,4,5,6]\n",
    "marks = [40,50,60,70]"
   ]
  },
  {
   "cell_type": "code",
   "execution_count": 2,
   "metadata": {},
   "outputs": [],
   "source": [
    "mapped = zip(name,roll_no,marks)\n",
    "\n",
    "mapped = set(mapped)"
   ]
  },
  {
   "cell_type": "code",
   "execution_count": 3,
   "metadata": {},
   "outputs": [
    {
     "name": "stdout",
     "output_type": "stream",
     "text": [
      "The zipped result is :{('Mani', 6, 70), ('Ramesh', 4, 50), ('Rama', 2, 40), ('Jully', 5, 60)}\n"
     ]
    }
   ],
   "source": [
    "print(\"The zipped result is :\",end = \"\")\n",
    "print(mapped)"
   ]
  },
  {
   "cell_type": "code",
   "execution_count": 4,
   "metadata": {},
   "outputs": [],
   "source": [
    "# unzipping values\n",
    "namez, roll_noz,marksz = zip(*mapped)"
   ]
  },
  {
   "cell_type": "code",
   "execution_count": 6,
   "metadata": {},
   "outputs": [
    {
     "name": "stdout",
     "output_type": "stream",
     "text": [
      "The unzipped result: \n",
      "The roll_no list is :  ('Mani', 'Ramesh', 'Rama', 'Jully')\n",
      "The roll_no list is :  [2, 4, 5, 6]\n",
      "The marks list is : (70, 50, 40, 60)\n"
     ]
    }
   ],
   "source": [
    "print(\"The unzipped result: \\n\",end='')\n",
    "\n",
    "print(\"The roll_no list is : \",namez)\n",
    "\n",
    "print(\"The roll_no list is : \",roll_no)\n",
    "print(\"The marks list is :\",marksz)\n"
   ]
  },
  {
   "cell_type": "code",
   "execution_count": 7,
   "metadata": {},
   "outputs": [],
   "source": [
    "players = [\"kohli\",\"Arun\",\"Anuj\"]\n",
    "scores = [100,15,12]"
   ]
  },
  {
   "cell_type": "code",
   "execution_count": 8,
   "metadata": {},
   "outputs": [
    {
     "name": "stdout",
     "output_type": "stream",
     "text": [
      "Players: kohli  Score: 100\n",
      "Players: Arun  Score: 15\n",
      "Players: Anuj  Score: 12\n"
     ]
    }
   ],
   "source": [
    "for pl, sc in zip(players, scores):\n",
    "    print(\"Players: %s  Score: %d\"%(pl,sc))"
   ]
  },
  {
   "cell_type": "code",
   "execution_count": null,
   "metadata": {},
   "outputs": [],
   "source": []
  }
 ],
 "metadata": {
  "kernelspec": {
   "display_name": "base",
   "language": "python",
   "name": "python3"
  },
  "language_info": {
   "codemirror_mode": {
    "name": "ipython",
    "version": 3
   },
   "file_extension": ".py",
   "mimetype": "text/x-python",
   "name": "python",
   "nbconvert_exporter": "python",
   "pygments_lexer": "ipython3",
   "version": "3.11.7"
  }
 },
 "nbformat": 4,
 "nbformat_minor": 2
}
