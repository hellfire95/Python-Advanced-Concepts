{
 "cells": [
  {
   "cell_type": "code",
   "execution_count": null,
   "metadata": {},
   "outputs": [],
   "source": []
  },
  {
   "cell_type": "markdown",
   "metadata": {},
   "source": [
    "## A Queue is a container that holds data. The data that is entered first will be removed first, and hence a queue is also called \"First in First out\"(FIFO). The queue has two ends front and rear. The items are entered from two ends front and rear. The items are entered from the rear and removed from the front side."
   ]
  },
  {
   "cell_type": "code",
   "execution_count": 1,
   "metadata": {},
   "outputs": [],
   "source": [
    "import queue\n",
    "q1 = queue.Queue()"
   ]
  },
  {
   "cell_type": "code",
   "execution_count": 2,
   "metadata": {},
   "outputs": [],
   "source": [
    "q1.put(1)"
   ]
  },
  {
   "cell_type": "code",
   "execution_count": 3,
   "metadata": {},
   "outputs": [
    {
     "data": {
      "text/plain": [
       "1"
      ]
     },
     "execution_count": 3,
     "metadata": {},
     "output_type": "execute_result"
    }
   ],
   "source": [
    "item1 = q1.get()\n",
    "item1"
   ]
  },
  {
   "cell_type": "code",
   "execution_count": 4,
   "metadata": {},
   "outputs": [],
   "source": [
    "for i in range(20):\n",
    "    q1.put(i)\n"
   ]
  },
  {
   "cell_type": "code",
   "execution_count": 5,
   "metadata": {},
   "outputs": [
    {
     "data": {
      "text/plain": [
       "0"
      ]
     },
     "execution_count": 5,
     "metadata": {},
     "output_type": "execute_result"
    }
   ],
   "source": [
    "item1 = q1.get()\n",
    "item1"
   ]
  },
  {
   "cell_type": "code",
   "execution_count": 6,
   "metadata": {},
   "outputs": [
    {
     "name": "stdout",
     "output_type": "stream",
     "text": [
      "the values in q1:  1\n",
      "the values in q1:  2\n",
      "the values in q1:  3\n",
      "the values in q1:  4\n",
      "the values in q1:  5\n",
      "the values in q1:  6\n",
      "the values in q1:  7\n",
      "the values in q1:  8\n",
      "the values in q1:  9\n",
      "the values in q1:  10\n",
      "the values in q1:  11\n",
      "the values in q1:  12\n",
      "the values in q1:  13\n",
      "the values in q1:  14\n",
      "the values in q1:  15\n",
      "the values in q1:  16\n",
      "the values in q1:  17\n",
      "the values in q1:  18\n",
      "the values in q1:  19\n"
     ]
    }
   ],
   "source": [
    "while not q1.empty():\n",
    "    print(\"the values in q1: \",q1.get())"
   ]
  },
  {
   "cell_type": "code",
   "execution_count": 7,
   "metadata": {},
   "outputs": [],
   "source": [
    "q2 = queue.LifoQueue()"
   ]
  },
  {
   "cell_type": "code",
   "execution_count": 8,
   "metadata": {},
   "outputs": [],
   "source": [
    "for i in range(20):\n",
    "    q2.put(i)"
   ]
  },
  {
   "cell_type": "code",
   "execution_count": 9,
   "metadata": {},
   "outputs": [
    {
     "data": {
      "text/plain": [
       "19"
      ]
     },
     "execution_count": 9,
     "metadata": {},
     "output_type": "execute_result"
    }
   ],
   "source": [
    "item1 = q2.get()\n",
    "item1"
   ]
  },
  {
   "cell_type": "code",
   "execution_count": 10,
   "metadata": {},
   "outputs": [
    {
     "name": "stdout",
     "output_type": "stream",
     "text": [
      "Values coming out in LIFO order:  18\n",
      "Values coming out in LIFO order:  17\n",
      "Values coming out in LIFO order:  16\n",
      "Values coming out in LIFO order:  15\n",
      "Values coming out in LIFO order:  14\n",
      "Values coming out in LIFO order:  13\n",
      "Values coming out in LIFO order:  12\n",
      "Values coming out in LIFO order:  11\n",
      "Values coming out in LIFO order:  10\n",
      "Values coming out in LIFO order:  9\n",
      "Values coming out in LIFO order:  8\n",
      "Values coming out in LIFO order:  7\n",
      "Values coming out in LIFO order:  6\n",
      "Values coming out in LIFO order:  5\n",
      "Values coming out in LIFO order:  4\n",
      "Values coming out in LIFO order:  3\n",
      "Values coming out in LIFO order:  2\n",
      "Values coming out in LIFO order:  1\n",
      "Values coming out in LIFO order:  0\n"
     ]
    }
   ],
   "source": [
    "while not q2.empty():\n",
    "    print(\"Values coming out in LIFO order: \",q2.get())"
   ]
  },
  {
   "cell_type": "code",
   "execution_count": 11,
   "metadata": {},
   "outputs": [],
   "source": [
    "# particular size queue here size is 5 so only 5 items can be stored\n",
    "q3 = queue.Queue(5)"
   ]
  },
  {
   "cell_type": "code",
   "execution_count": null,
   "metadata": {},
   "outputs": [],
   "source": []
  }
 ],
 "metadata": {
  "kernelspec": {
   "display_name": "base",
   "language": "python",
   "name": "python3"
  },
  "language_info": {
   "codemirror_mode": {
    "name": "ipython",
    "version": 3
   },
   "file_extension": ".py",
   "mimetype": "text/x-python",
   "name": "python",
   "nbconvert_exporter": "python",
   "pygments_lexer": "ipython3",
   "version": "3.11.7"
  }
 },
 "nbformat": 4,
 "nbformat_minor": 2
}
